{
  "nbformat": 4,
  "nbformat_minor": 0,
  "metadata": {
    "colab": {
      "provenance": [],
      "authorship_tag": "ABX9TyOwNlxxrsHx767Qh/CrSg/6",
      "include_colab_link": true
    },
    "kernelspec": {
      "name": "python3",
      "display_name": "Python 3"
    },
    "language_info": {
      "name": "python"
    }
  },
  "cells": [
    {
      "cell_type": "markdown",
      "metadata": {
        "id": "view-in-github",
        "colab_type": "text"
      },
      "source": [
        "<a href=\"https://colab.research.google.com/github/Lithium-spirit/Telescope-Automation/blob/main/ObjectTracker.ipynb\" target=\"_parent\"><img src=\"https://colab.research.google.com/assets/colab-badge.svg\" alt=\"Open In Colab\"/></a>"
      ]
    },
    {
      "cell_type": "code",
      "source": [
        "!pip install skyfield"
      ],
      "metadata": {
        "colab": {
          "base_uri": "https://localhost:8080/"
        },
        "id": "LKrLxXW7ulRH",
        "outputId": "9c2486c4-8e4d-4c00-dcda-f69116457002"
      },
      "execution_count": 3,
      "outputs": [
        {
          "output_type": "stream",
          "name": "stdout",
          "text": [
            "Collecting skyfield\n",
            "  Downloading skyfield-1.53-py3-none-any.whl.metadata (2.4 kB)\n",
            "Requirement already satisfied: certifi>=2017.4.17 in /usr/local/lib/python3.11/dist-packages (from skyfield) (2025.7.14)\n",
            "Collecting jplephem>=2.13 (from skyfield)\n",
            "  Downloading jplephem-2.23-py3-none-any.whl.metadata (23 kB)\n",
            "Requirement already satisfied: numpy in /usr/local/lib/python3.11/dist-packages (from skyfield) (2.0.2)\n",
            "Collecting sgp4>=2.13 (from skyfield)\n",
            "  Downloading sgp4-2.24-cp311-cp311-manylinux_2_5_x86_64.manylinux1_x86_64.manylinux_2_17_x86_64.manylinux2014_x86_64.whl.metadata (33 kB)\n",
            "Downloading skyfield-1.53-py3-none-any.whl (366 kB)\n",
            "\u001b[2K   \u001b[90m━━━━━━━━━━━━━━━━━━━━━━━━━━━━━━━━━━━━━━━━\u001b[0m \u001b[32m367.0/367.0 kB\u001b[0m \u001b[31m12.8 MB/s\u001b[0m eta \u001b[36m0:00:00\u001b[0m\n",
            "\u001b[?25hDownloading jplephem-2.23-py3-none-any.whl (49 kB)\n",
            "\u001b[2K   \u001b[90m━━━━━━━━━━━━━━━━━━━━━━━━━━━━━━━━━━━━━━━━\u001b[0m \u001b[32m49.4/49.4 kB\u001b[0m \u001b[31m3.8 MB/s\u001b[0m eta \u001b[36m0:00:00\u001b[0m\n",
            "\u001b[?25hDownloading sgp4-2.24-cp311-cp311-manylinux_2_5_x86_64.manylinux1_x86_64.manylinux_2_17_x86_64.manylinux2014_x86_64.whl (234 kB)\n",
            "\u001b[2K   \u001b[90m━━━━━━━━━━━━━━━━━━━━━━━━━━━━━━━━━━━━━━━━\u001b[0m \u001b[32m234.5/234.5 kB\u001b[0m \u001b[31m18.4 MB/s\u001b[0m eta \u001b[36m0:00:00\u001b[0m\n",
            "\u001b[?25hInstalling collected packages: sgp4, jplephem, skyfield\n",
            "Successfully installed jplephem-2.23 sgp4-2.24 skyfield-1.53\n"
          ]
        }
      ]
    },
    {
      "cell_type": "code",
      "execution_count": 4,
      "metadata": {
        "colab": {
          "base_uri": "https://localhost:8080/"
        },
        "id": "QDamSryst1XH",
        "outputId": "f60bd578-3ff2-4e00-cb56-48ac0a264c59"
      },
      "outputs": [
        {
          "output_type": "stream",
          "name": "stderr",
          "text": [
            "[#################################] 100% de421.bsp\n"
          ]
        },
        {
          "output_type": "stream",
          "name": "stdout",
          "text": [
            "Altitude: 64.74593117341239 degrees, Azimuth: 300.83884407490694 degrees\n",
            "Altitude: 64.74593117341239 degrees, Azimuth: 300.83884407490694 degrees\n",
            "Altitude: 64.74593117341239 degrees, Azimuth: 300.83884407490694 degrees\n",
            "Altitude: 64.74593117341239 degrees, Azimuth: 300.83884407490694 degrees\n",
            "Altitude: 64.74593117341239 degrees, Azimuth: 300.83884407490694 degrees\n",
            "Altitude: 64.74593117341239 degrees, Azimuth: 300.83884407490694 degrees\n",
            "Altitude: 64.74593117341239 degrees, Azimuth: 300.83884407490694 degrees\n",
            "Altitude: 64.74593117341239 degrees, Azimuth: 300.83884407490694 degrees\n",
            "Altitude: 64.74593117341239 degrees, Azimuth: 300.83884407490694 degrees\n",
            "Altitude: 64.74593117341239 degrees, Azimuth: 300.83884407490694 degrees\n",
            "Altitude: 64.74593117341239 degrees, Azimuth: 300.83884407490694 degrees\n",
            "Altitude: 64.74593117341239 degrees, Azimuth: 300.83884407490694 degrees\n",
            "Altitude: 64.74593117341239 degrees, Azimuth: 300.83884407490694 degrees\n",
            "Tracking stopped.\n"
          ]
        }
      ],
      "source": [
        "\n",
        "#sun \"mercury barycenter\", \"venus barycenter\", \"earth barycenter\", \"mars barycenter\", \"jupiter barycenter\", \"saturn barycenter\", \"uranus barycenter\", \"neptune barycenter\"\n",
        "\n",
        "lat = 17.38\n",
        "long = 78.48\n",
        "\n",
        "planet_name = \"moon\"\n",
        "\n",
        "from skyfield.api import Topos, load\n",
        "from datetime import datetime\n",
        "import pytz\n",
        "import time\n",
        "\n",
        "def get_planet_position(planet_name, observer_latitude, observer_longitude, t):\n",
        "    # Load the ephemeris\n",
        "    planets = load('de421.bsp')\n",
        "    earth, planet = planets['earth'], planets[planet_name]  # Fixed this line\n",
        "\n",
        "    # Set observer's location\n",
        "    observer = earth + Topos(latitude_degrees=observer_latitude, longitude_degrees=observer_longitude)\n",
        "\n",
        "    # Compute position\n",
        "    astrometric = observer.at(t).observe(planet)  # Fixed this line\n",
        "    alt, az, _ = astrometric.apparent().altaz()\n",
        "\n",
        "    # Return altitude and azimuth\n",
        "    return alt.degrees, az.degrees\n",
        "\n",
        "# Example observer's location (replace with your actual coordinates)\n",
        "observer_latitude = lat  # Latitude of New Delhi\n",
        "observer_longitude = long  # Longitude of New Delhi\n",
        "\n",
        "# Example planet to track\n",
        "\n",
        "\n",
        "# Get current time in IST\n",
        "ist = pytz.timezone('Asia/Kolkata')\n",
        "now = datetime.now(ist)\n",
        "\n",
        "# Create a Time object using Skyfield's timescale\n",
        "ts = load.timescale()\n",
        "\n",
        "try:\n",
        "    while True:\n",
        "        # Get current position of the planet\n",
        "        altitude, azimuth = get_planet_position(planet_name, observer_latitude, observer_longitude, ts.utc(now))\n",
        "\n",
        "        # Output the current position\n",
        "        print(f\"Altitude: {altitude} degrees, Azimuth: {azimuth} degrees\")\n",
        "\n",
        "        # Update every 1 second\n",
        "        time.sleep(1)\n",
        "\n",
        "except KeyboardInterrupt:\n",
        "    print(\"Tracking stopped.\")\n"
      ]
    }
  ]
}